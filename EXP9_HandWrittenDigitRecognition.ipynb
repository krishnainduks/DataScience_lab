{
  "nbformat": 4,
  "nbformat_minor": 0,
  "metadata": {
    "colab": {
      "name": "EXP9_HandWrittenDigitRecognition.ipynb",
      "provenance": [],
      "collapsed_sections": [],
      "include_colab_link": true
    },
    "kernelspec": {
      "name": "python3",
      "display_name": "Python 3"
    },
    "language_info": {
      "name": "python"
    }
  },
  "cells": [
    {
      "cell_type": "markdown",
      "metadata": {
        "id": "view-in-github",
        "colab_type": "text"
      },
      "source": [
        "<a href=\"https://colab.research.google.com/github/krishnainduks/DataScience_lab/blob/main/EXP9_HandWrittenDigitRecognition.ipynb\" target=\"_parent\"><img src=\"https://colab.research.google.com/assets/colab-badge.svg\" alt=\"Open In Colab\"/></a>"
      ]
    },
    {
      "cell_type": "markdown",
      "source": [
        "Importing Necessary Libraries"
      ],
      "metadata": {
        "id": "KW0nPjYfht5t"
      }
    },
    {
      "cell_type": "code",
      "execution_count": null,
      "metadata": {
        "id": "eoaqru1BouMK",
        "colab": {
          "base_uri": "https://localhost:8080/"
        },
        "outputId": "ec1926c6-0eff-4915-9533-13a510d58598"
      },
      "outputs": [
        {
          "output_type": "stream",
          "name": "stdout",
          "text": [
            "Downloading data from https://storage.googleapis.com/tensorflow/tf-keras-datasets/mnist.npz\n",
            "11493376/11490434 [==============================] - 0s 0us/step\n",
            "11501568/11490434 [==============================] - 0s 0us/step\n"
          ]
        }
      ],
      "source": [
        "import tensorflow as tf\n",
        "from tensorflow import keras\n",
        "import matplotlib.pyplot as plt\n",
        "import numpy as np\n",
        "\n",
        "#load MNIST dataset available in Keras library\n",
        "(X_train, y_train) , (X_test, y_test) = keras.datasets.mnist.load_data()"
      ]
    },
    {
      "cell_type": "markdown",
      "source": [
        "# To Know No. of Examples in Training Dataset"
      ],
      "metadata": {
        "id": "u1eBsb2MlhWe"
      }
    },
    {
      "cell_type": "code",
      "source": [
        "# No. of examples in train dataset\n",
        "\n",
        "# No. of examples in test dataset\n"
      ],
      "metadata": {
        "id": "HPLzCAJfpJbF",
        "colab": {
          "base_uri": "https://localhost:8080/"
        },
        "outputId": "6db3e3ae-d3c9-45ab-f957-5e9208ceac59"
      },
      "execution_count": null,
      "outputs": [
        {
          "output_type": "stream",
          "name": "stdout",
          "text": [
            "Length of Xtrain: 60000\n",
            "<class 'numpy.ndarray'>\n",
            "Length of Xtest: 10000\n",
            "Dimension of Xtrain: 3\n",
            "Shape of Xtrain: (60000, 28, 28)\n"
          ]
        }
      ]
    },
    {
      "cell_type": "code",
      "source": [
        "# Give details of an image in the dataset\n",
        "X_train[0].shape"
      ],
      "metadata": {
        "id": "6SPP1mD8pVph",
        "colab": {
          "base_uri": "https://localhost:8080/"
        },
        "outputId": "822c8cab-3fa4-4c9f-e940-905692a29298"
      },
      "execution_count": null,
      "outputs": [
        {
          "output_type": "execute_result",
          "data": {
            "text/plain": [
              "(28, 28)"
            ]
          },
          "metadata": {},
          "execution_count": 3
        }
      ]
    },
    {
      "cell_type": "code",
      "source": [
        "#matshow() function OR imshow() function is used to represent an array as a matrix in a new figure window. \n",
        "#plt.matshow(X_train[0]) OR plt.imshow(X_train[2])\n",
        "\n"
      ],
      "metadata": {
        "id": "86UK-OJPr2VB"
      },
      "execution_count": null,
      "outputs": []
    },
    {
      "cell_type": "code",
      "source": [
        "#  Scale the values in Xtrain & Xtest \n",
        "\n",
        "# Display the length of X_train\n"
      ],
      "metadata": {
        "id": "rhAy9LVFqNS0"
      },
      "execution_count": null,
      "outputs": []
    },
    {
      "cell_type": "code",
      "source": [
        "# Flattening Xtrain & Xtest to a 2D array\n",
        "\n",
        "#Display the shape of flattened Xtrain & Xtest"
      ],
      "metadata": {
        "id": "HECQ2X0IObf9"
      },
      "execution_count": null,
      "outputs": []
    },
    {
      "cell_type": "code",
      "source": [
        "#Build the model \n",
        "\n",
        "# Apply 'adam' optimizer\n",
        "\n",
        "# Train the model using fit(). Give epoch as 10\n",
        "\n",
        "#Evaluate the model \n",
        "model.evaluate(X_test_flattened, y_test)\n",
        "\n",
        "#Predict the values for flattened test dataset\n",
        "\n",
        "#Display the first row of y_predicted\n",
        "\n"
      ],
      "metadata": {
        "id": "kiksXHq_O2pA"
      },
      "execution_count": null,
      "outputs": []
    },
    {
      "cell_type": "code",
      "source": [
        "# Display the predicted value by applying argmax()\n",
        "\n",
        "#Confirm the prediction by displaying the corresponding pixel values using matshow() ir imshow()\n",
        "\n"
      ],
      "metadata": {
        "id": "cjlESt3nn_3q",
        "colab": {
          "base_uri": "https://localhost:8080/"
        },
        "outputId": "22762ec7-7dc8-4749-cc42-5c0fe412b87f"
      },
      "execution_count": null,
      "outputs": [
        {
          "output_type": "execute_result",
          "data": {
            "text/plain": [
              "4"
            ]
          },
          "metadata": {},
          "execution_count": 44
        }
      ]
    },
    {
      "cell_type": "code",
      "source": [
        "#Display the predicted values  for test dataset. Display only first 5 predicted values\n",
        "\n",
        "#Construct the Confusion Matrix \n"
      ],
      "metadata": {
        "id": "EKPpIoPyoipF",
        "colab": {
          "base_uri": "https://localhost:8080/"
        },
        "outputId": "8bbf1fb4-a3a1-4068-ddbe-ea4966e25c08"
      },
      "execution_count": null,
      "outputs": [
        {
          "output_type": "execute_result",
          "data": {
            "text/plain": [
              "[7, 2, 1, 0, 4]"
            ]
          },
          "metadata": {},
          "execution_count": 22
        }
      ]
    },
    {
      "cell_type": "code",
      "source": [
        "#Display confusion matrix using heatmap\n",
        "import seaborn as sn\n",
        "plt.figure(figsize = (10,7))\n",
        "sn.heatmap(cm, annot=True, fmt='d')\n",
        "plt.xlabel('Predicted')\n",
        "plt.ylabel('Truth')\n"
      ],
      "metadata": {
        "id": "fi-RWO8kq6tR",
        "colab": {
          "base_uri": "https://localhost:8080/",
          "height": 460
        },
        "outputId": "db821d6c-ff68-4731-b535-fc962e0cd817"
      },
      "execution_count": null,
      "outputs": [
        {
          "output_type": "execute_result",
          "data": {
            "text/plain": [
              "Text(69.0, 0.5, 'Truth')"
            ]
          },
          "metadata": {},
          "execution_count": 24
        },
        {
          "output_type": "display_data",
          "data": {
            "image/png": "[encoded data removed]",
            "text/plain": [
              "<Figure size 720x504 with 2 Axes>"
            ]
          },
          "metadata": {
            "needs_background": "light"
          }
        }
      ]
    },
    {
      "cell_type": "markdown",
      "source": [
        "USING HIDDEN LAYER"
      ],
      "metadata": {
        "id": "nroJ4N3arqQn"
      }
    },
    {
      "cell_type": "code",
      "source": [
        "model = keras.Sequential([\n",
        "    keras.layers.Dense(100,activation='relu'),\n",
        "    keras.layers.Dense(10, activation='sigmoid')\n",
        "])\n"
      ],
      "metadata": {
        "id": "h5dRCoV5rnti"
      },
      "execution_count": null,
      "outputs": []
    },
    {
      "cell_type": "code",
      "source": [
        "model.compile(optimizer='adam',\n",
        "              loss='sparse_categorical_crossentropy',\n",
        "              metrics=['accuracy'])\n"
      ],
      "metadata": {
        "id": "f5f6GRurr4QV"
      },
      "execution_count": null,
      "outputs": []
    },
    {
      "cell_type": "code",
      "source": [
        "model.fit(X_train_flattened, y_train, epochs=5)"
      ],
      "metadata": {
        "id": "SJwfH7BHr6OB",
        "colab": {
          "base_uri": "https://localhost:8080/"
        },
        "outputId": "ba4d9d69-2ffc-4625-82e0-c6fc0025504a"
      },
      "execution_count": null,
      "outputs": [
        {
          "output_type": "stream",
          "name": "stdout",
          "text": [
            "Epoch 1/5\n",
            "1875/1875 [==============================] - 5s 2ms/step - loss: 0.2777 - accuracy: 0.9199\n",
            "Epoch 2/5\n",
            "1875/1875 [==============================] - 4s 2ms/step - loss: 0.1245 - accuracy: 0.9636\n",
            "Epoch 3/5\n",
            "1875/1875 [==============================] - 4s 2ms/step - loss: 0.0875 - accuracy: 0.9743\n",
            "Epoch 4/5\n",
            "1875/1875 [==============================] - 4s 2ms/step - loss: 0.0681 - accuracy: 0.9792\n",
            "Epoch 5/5\n",
            "1875/1875 [==============================] - 4s 2ms/step - loss: 0.0537 - accuracy: 0.9835\n"
          ]
        },
        {
          "output_type": "execute_result",
          "data": {
            "text/plain": [
              "<keras.callbacks.History at 0x7f6092d38290>"
            ]
          },
          "metadata": {},
          "execution_count": 27
        }
      ]
    },
    {
      "cell_type": "code",
      "source": [
        "model.evaluate(X_test_flattened,y_test)"
      ],
      "metadata": {
        "id": "EVtF80GAsJLD",
        "colab": {
          "base_uri": "https://localhost:8080/"
        },
        "outputId": "b0075a2a-f632-4b87-a545-88f200c9d86f"
      },
      "execution_count": null,
      "outputs": [
        {
          "output_type": "stream",
          "name": "stdout",
          "text": [
            "313/313 [==============================] - 1s 2ms/step - loss: 0.0786 - accuracy: 0.9751\n"
          ]
        },
        {
          "output_type": "execute_result",
          "data": {
            "text/plain": [
              "[0.07863984256982803, 0.9750999808311462]"
            ]
          },
          "metadata": {},
          "execution_count": 28
        }
      ]
    },
    {
      "cell_type": "code",
      "source": [
        "y_predicted = model.predict(X_test_flattened)\n",
        "y_predicted"
      ],
      "metadata": {
        "id": "Q8F0laMjsSoG",
        "colab": {
          "base_uri": "https://localhost:8080/"
        },
        "outputId": "5e0e227d-9243-437d-f802-fb47d7628797"
      },
      "execution_count": null,
      "outputs": [
        {
          "output_type": "execute_result",
          "data": {
            "text/plain": [
              "array([[1.9663182e-01, 1.0661781e-03, 7.0703042e-01, ..., 9.9997139e-01,\n",
              "        1.5860826e-02, 4.3196589e-02],\n",
              "       [1.9181639e-01, 9.9905562e-01, 9.9999869e-01, ..., 3.5023191e-08,\n",
              "        2.3184523e-01, 3.8511429e-05],\n",
              "       [1.7279387e-04, 9.9927801e-01, 1.4470059e-01, ..., 4.1472608e-01,\n",
              "        1.3068342e-01, 4.1025519e-02],\n",
              "       ...,\n",
              "       [1.7130093e-06, 8.7543085e-06, 7.7272634e-06, ..., 3.8716146e-01,\n",
              "        4.9101233e-02, 6.9311082e-01],\n",
              "       [2.6747435e-02, 1.8883626e-05, 8.4262902e-05, ..., 2.1099478e-02,\n",
              "        6.4012915e-01, 1.1537667e-04],\n",
              "       [1.7884678e-01, 9.4580650e-04, 7.7513754e-03, ..., 3.5389752e-05,\n",
              "        2.2894144e-04, 5.7818677e-05]], dtype=float32)"
            ]
          },
          "metadata": {},
          "execution_count": 29
        }
      ]
    },
    {
      "cell_type": "code",
      "source": [
        "y_predicted_labels = [np.argmax(i) for i in y_predicted]\n"
      ],
      "metadata": {
        "id": "-zjzhi5cshW2"
      },
      "execution_count": null,
      "outputs": []
    },
    {
      "cell_type": "code",
      "source": [
        "y_predicted[0]"
      ],
      "metadata": {
        "id": "4d0Vcf6ks7uL",
        "colab": {
          "base_uri": "https://localhost:8080/"
        },
        "outputId": "b4834493-97b8-4be9-ef92-51d4ee99042c"
      },
      "execution_count": null,
      "outputs": [
        {
          "output_type": "execute_result",
          "data": {
            "text/plain": [
              "array([1.9663182e-01, 1.0661781e-03, 7.0703042e-01, 9.4925106e-01,\n",
              "       5.5770590e-07, 1.5124649e-02, 6.6381671e-07, 9.9997139e-01,\n",
              "       1.5860826e-02, 4.3196589e-02], dtype=float32)"
            ]
          },
          "metadata": {},
          "execution_count": 31
        }
      ]
    },
    {
      "cell_type": "code",
      "source": [
        "np.argmax(y_predicted[0])"
      ],
      "metadata": {
        "id": "g-StqsZEtQXL",
        "colab": {
          "base_uri": "https://localhost:8080/"
        },
        "outputId": "7c3ffb8f-94be-4a0f-c705-0606d29bbd2b"
      },
      "execution_count": null,
      "outputs": [
        {
          "output_type": "execute_result",
          "data": {
            "text/plain": [
              "7"
            ]
          },
          "metadata": {},
          "execution_count": 32
        }
      ]
    },
    {
      "cell_type": "code",
      "source": [
        "y_predicted_labels = [np.argmax(i) for i in y_predicted]\n",
        "y_predicted_labels[:5]\n"
      ],
      "metadata": {
        "id": "iVNt7gECtdiZ",
        "colab": {
          "base_uri": "https://localhost:8080/"
        },
        "outputId": "e0385711-c43e-4805-bd19-328302569f54"
      },
      "execution_count": null,
      "outputs": [
        {
          "output_type": "execute_result",
          "data": {
            "text/plain": [
              "[7, 2, 1, 0, 4]"
            ]
          },
          "metadata": {},
          "execution_count": 33
        }
      ]
    },
    {
      "cell_type": "code",
      "source": [
        "plt.matshow(X_test[0])"
      ],
      "metadata": {
        "id": "al_TpD30tB4x",
        "colab": {
          "base_uri": "https://localhost:8080/",
          "height": 294
        },
        "outputId": "d45a9dac-8640-4d10-b444-a08d5b53cf0e"
      },
      "execution_count": null,
      "outputs": [
        {
          "output_type": "execute_result",
          "data": {
            "text/plain": [
              "<matplotlib.image.AxesImage at 0x7f60938b09d0>"
            ]
          },
          "metadata": {},
          "execution_count": 34
        },
        {
          "output_type": "display_data",
          "data": {
            "image/png": "[encoded data removed]",
            "text/plain": [
              "<Figure size 288x288 with 1 Axes>"
            ]
          },
          "metadata": {
            "needs_background": "light"
          }
        }
      ]
    },
    {
      "cell_type": "markdown",
      "source": [
        "USING FLATTEN LAYER TO CONVERT 2D to 1D"
      ],
      "metadata": {
        "id": "RSRDbxiTuKAi"
      }
    },
    {
      "cell_type": "code",
      "source": [
        "model = keras.Sequential([\n",
        "    keras.layers.Flatten(input_shape=(28, 28)),\n",
        "    keras.layers.Dense(100, activation='relu'),\n",
        "    keras.layers.Dense(10, activation='sigmoid')\n",
        "])\n"
      ],
      "metadata": {
        "id": "dF2IRZ1vuNmf"
      },
      "execution_count": null,
      "outputs": []
    },
    {
      "cell_type": "code",
      "source": [
        "model.compile(optimizer='adam',\n",
        "              loss='sparse_categorical_crossentropy',\n",
        "              metrics=['accuracy'])\n"
      ],
      "metadata": {
        "id": "eRdGVbtIueUf"
      },
      "execution_count": null,
      "outputs": []
    },
    {
      "cell_type": "code",
      "source": [
        "model.fit(X_train, y_train, epochs=10)"
      ],
      "metadata": {
        "id": "zb8tDyNnukYK",
        "colab": {
          "base_uri": "https://localhost:8080/"
        },
        "outputId": "78147b93-8d08-409e-c138-6256c4f5b8cf"
      },
      "execution_count": null,
      "outputs": [
        {
          "output_type": "stream",
          "name": "stdout",
          "text": [
            "Epoch 1/10\n",
            "1875/1875 [==============================] - 4s 2ms/step - loss: 0.2714 - accuracy: 0.9232\n",
            "Epoch 2/10\n",
            "1875/1875 [==============================] - 4s 2ms/step - loss: 0.1247 - accuracy: 0.9638\n",
            "Epoch 3/10\n",
            "1875/1875 [==============================] - 4s 2ms/step - loss: 0.0866 - accuracy: 0.9735\n",
            "Epoch 4/10\n",
            "1875/1875 [==============================] - 4s 2ms/step - loss: 0.0651 - accuracy: 0.9807\n",
            "Epoch 5/10\n",
            "1875/1875 [==============================] - 4s 2ms/step - loss: 0.0507 - accuracy: 0.9847\n",
            "Epoch 6/10\n",
            "1875/1875 [==============================] - 5s 3ms/step - loss: 0.0406 - accuracy: 0.9874\n",
            "Epoch 7/10\n",
            "1875/1875 [==============================] - 4s 2ms/step - loss: 0.0339 - accuracy: 0.9895\n",
            "Epoch 8/10\n",
            "1875/1875 [==============================] - 4s 2ms/step - loss: 0.0282 - accuracy: 0.9913\n",
            "Epoch 9/10\n",
            "1875/1875 [==============================] - 4s 2ms/step - loss: 0.0233 - accuracy: 0.9926\n",
            "Epoch 10/10\n",
            "1875/1875 [==============================] - 5s 3ms/step - loss: 0.0190 - accuracy: 0.9946\n"
          ]
        },
        {
          "output_type": "execute_result",
          "data": {
            "text/plain": [
              "<keras.callbacks.History at 0x7f6095650d10>"
            ]
          },
          "metadata": {},
          "execution_count": 37
        }
      ]
    },
    {
      "cell_type": "code",
      "source": [
        "model.evaluate(X_test,y_test)"
      ],
      "metadata": {
        "id": "kW7QfXFwuwo8",
        "colab": {
          "base_uri": "https://localhost:8080/"
        },
        "outputId": "1dcf1909-c87e-4593-a3e9-15c0e22feb48"
      },
      "execution_count": null,
      "outputs": [
        {
          "output_type": "stream",
          "name": "stdout",
          "text": [
            "313/313 [==============================] - 1s 2ms/step - loss: 0.0858 - accuracy: 0.9758\n"
          ]
        },
        {
          "output_type": "execute_result",
          "data": {
            "text/plain": [
              "[0.0858246311545372, 0.9757999777793884]"
            ]
          },
          "metadata": {},
          "execution_count": 38
        }
      ]
    }
  ]
}